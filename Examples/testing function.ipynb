{
 "cells": [
  {
   "cell_type": "code",
   "execution_count": 1,
   "id": "6ac99610-8d13-41f4-be4e-49feec407332",
   "metadata": {},
   "outputs": [],
   "source": [
    "import numpy as np\n",
    "import os, sys\n",
    "import matplotlib.pyplot as plt\n",
    "\n",
    "from PyGEECSPlotter.scan_data_analysis import ScanDataAnalyzer\n",
    "from PyGEECSPlotter.image_analysis import ImageAnalyzer\n",
    "from PyGEECSPlotter.widgets import get_selection_box\n"
   ]
  },
  {
   "cell_type": "code",
   "execution_count": 2,
   "id": "1dd36845-e531-49ce-a542-c680cf77e542",
   "metadata": {},
   "outputs": [],
   "source": [
    "# Setting the diagnostic and analysis, display options for running \n",
    "# the analysis and for displaying data\n",
    "\n",
    "diagnostic='CAM-HPD-CCD'\n",
    "file_ext='.png'\n",
    "\n",
    "\n",
    "analyzer_dict = {\n",
    "    # 1) Saturation\n",
    "    'return_n_saturated': False,  # Whether to count saturated pixels\n",
    "    'bit_depth': 12,  # Bit depth of the image\n",
    "    'saturation_threshold': None,  # Custom saturation threshold\n",
    "\n",
    "    # 2) Background subtraction\n",
    "    'bg_file': True,  # Whether to use a background file\n",
    "    'bg_const': 0,  # Constant background subtraction value\n",
    "}\n",
    "\n",
    "display_dict = {}\n"
   ]
  },
  {
   "cell_type": "code",
   "execution_count": 3,
   "id": "71b203dc-25d4-441d-b0fc-440c8c0b8439",
   "metadata": {},
   "outputs": [
    {
     "data": {
      "application/vnd.jupyter.widget-view+json": {
       "model_id": "0101c53391874cc4bde6897f48e11d9b",
       "version_major": 2,
       "version_minor": 0
      },
      "text/plain": [
       "interactive(children=(Output(),), _dom_classes=('widget-interact',))"
      ]
     },
     "metadata": {},
     "output_type": "display_data"
    },
    {
     "data": {
      "application/vnd.jupyter.widget-view+json": {
       "model_id": "e949636c0ffd4b739461a496f938096c",
       "version_major": 2,
       "version_minor": 0
      },
      "text/plain": [
       "interactive(children=(Output(),), _dom_classes=('widget-interact',))"
      ]
     },
     "metadata": {},
     "output_type": "display_data"
    },
    {
     "data": {
      "application/vnd.jupyter.widget-view+json": {
       "model_id": "c5491d15c85c48438dde345ad6378b32",
       "version_major": 2,
       "version_minor": 0
      },
      "text/plain": [
       "interactive(children=(Output(),), _dom_classes=('widget-interact',))"
      ]
     },
     "metadata": {},
     "output_type": "display_data"
    },
    {
     "data": {
      "application/vnd.jupyter.widget-view+json": {
       "model_id": "f58bf21235e940978accfb7a3c3e3281",
       "version_major": 2,
       "version_minor": 0
      },
      "text/plain": [
       "interactive(children=(Output(),), _dom_classes=('widget-interact',))"
      ]
     },
     "metadata": {},
     "output_type": "display_data"
    },
    {
     "data": {
      "application/vnd.jupyter.widget-view+json": {
       "model_id": "0e62b4d7f11242979b30786bfd890b69",
       "version_major": 2,
       "version_minor": 0
      },
      "text/plain": [
       "interactive(children=(Output(),), _dom_classes=('widget-interact',))"
      ]
     },
     "metadata": {},
     "output_type": "display_data"
    },
    {
     "data": {
      "application/vnd.jupyter.widget-view+json": {
       "model_id": "76b8baf0430d4b93989bed3476ecc647",
       "version_major": 2,
       "version_minor": 0
      },
      "text/plain": [
       "VBox(children=(Text(value='Z:\\\\data\\\\Thomson', description='Experiment Dir :', disabled=True, layout=Layout(wi…"
      ]
     },
     "metadata": {},
     "output_type": "display_data"
    }
   ],
   "source": [
    "# Define which scan to look at \n",
    "\n",
    "experiment_dir = r'Z:\\data\\Thomson'\n",
    "_, _, _, _, _, sfile_disp = get_selection_box(experiment_dir, display_widgets=True)\n"
   ]
  },
  {
   "cell_type": "code",
   "execution_count": null,
   "id": "10d6e5ed-6223-4b8b-87a1-989f7156751a",
   "metadata": {},
   "outputs": [],
   "source": [
    "# Select sfile from GUI\n",
    "sfilename = sfile_disp.value\n",
    "\n",
    "# OR Manually define s-file\n",
    "sfilename = r'Z:\\data\\Thomson\\Y2025\\08-Aug\\25_0804\\analysis\\s8.txt'\n",
    "\n",
    "print(\"sfilename = r'%s'\" %sfilename)"
   ]
  },
  {
   "cell_type": "code",
   "execution_count": null,
   "id": "21572143-64a4-4fe1-a3e9-97991d27e386",
   "metadata": {},
   "outputs": [],
   "source": [
    "# Load the Scalar Data for that scan in, and filter any data if desired\n",
    "\n",
    "scan_data = ScanDataAnalyzer(sfilename=sfilename,\n",
    "                       # diagnostic=diagnostic,\n",
    "                       # file_ext=file_ext,\n",
    "                       )\n",
    "\n",
    "scan_data.load_scan_data(\n",
    "    search_replace_filename=search_replace_filename, \n",
    "    # column_math_filename=column_math_filename,\n",
    ")\n",
    "\n",
    "# scan_data.filter_scan_data('HPD stage position', 200, 230, filter_exclusive=False)\n",
    "\n"
   ]
  },
  {
   "cell_type": "code",
   "execution_count": null,
   "id": "67b31fbb-2cf4-4268-9d77-a78f59b2c35d",
   "metadata": {},
   "outputs": [],
   "source": [
    "scan_data.data['Shotnumber']"
   ]
  },
  {
   "cell_type": "code",
   "execution_count": null,
   "id": "9c393da8-0e4e-4761-bbb2-8cccc4949858",
   "metadata": {},
   "outputs": [],
   "source": [
    "plt.plot(scan_data.data['Shotnumber'])"
   ]
  },
  {
   "cell_type": "code",
   "execution_count": null,
   "id": "05e64285-1b32-429e-9812-082dd405d934",
   "metadata": {},
   "outputs": [],
   "source": []
  }
 ],
 "metadata": {
  "kernelspec": {
   "display_name": "Python 3 (ipykernel)",
   "language": "python",
   "name": "python3"
  },
  "language_info": {
   "codemirror_mode": {
    "name": "ipython",
    "version": 3
   },
   "file_extension": ".py",
   "mimetype": "text/x-python",
   "name": "python",
   "nbconvert_exporter": "python",
   "pygments_lexer": "ipython3",
   "version": "3.11.5"
  }
 },
 "nbformat": 4,
 "nbformat_minor": 5
}
