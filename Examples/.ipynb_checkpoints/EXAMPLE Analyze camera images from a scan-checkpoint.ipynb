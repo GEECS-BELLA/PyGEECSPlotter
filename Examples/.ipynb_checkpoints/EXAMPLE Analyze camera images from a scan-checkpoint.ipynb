{
 "cells": [
  {
   "cell_type": "code",
   "execution_count": 1,
   "id": "f383a34d-7f5e-4511-857d-22230595d5e8",
   "metadata": {},
   "outputs": [],
   "source": [
    "import numpy as np\n",
    "import os, sys\n",
    "import matplotlib.pyplot as plt\n",
    "\n",
    "from PyGEECSPlotter.scan_data_analysis import ScanDataAnalyzer\n",
    "from PyGEECSPlotter.image_analysis import ImageAnalyzer\n",
    "from PyGEECSPlotter.widgets import get_selection_box\n"
   ]
  },
  {
   "cell_type": "code",
   "execution_count": 2,
   "id": "41cb054e",
   "metadata": {},
   "outputs": [],
   "source": [
    "# Setting the diagnostic and analysis, display options for running \n",
    "# the analysis and for displaying data\n",
    "\n",
    "diagnostic='CAM-HPD-CCD'\n",
    "file_ext='.png'\n",
    "\n",
    "\n",
    "analyzer_dict = {\n",
    "    # 1) Saturation\n",
    "    'return_n_saturated': False,  # Whether to count saturated pixels\n",
    "    'bit_depth': 12,  # Bit depth of the image\n",
    "    'saturation_threshold': None,  # Custom saturation threshold\n",
    "\n",
    "    # 2) Background subtraction\n",
    "    'bg_file': True,  # Whether to use a background file\n",
    "    'bg_const': 0,  # Constant background subtraction value\n",
    "}\n",
    "\n",
    "display_dict = {}\n"
   ]
  },
  {
   "cell_type": "code",
   "execution_count": 3,
   "id": "d3fc8079-5580-4682-bc0c-f14ee5622cb1",
   "metadata": {},
   "outputs": [],
   "source": [
    "# Can use search_replace to change column names to more useful names\n",
    "# Can use column_math to quickly turn column values into more useful quantites (e.g. stage positions)\n",
    "\n",
    "column_math_filename = '/Users/alexpicksley/Documents/GitHub/bella_analysis/user_data/2024-02-29_columnmath_testguiding.txt'\n",
    "search_replace_filename = '/Users/alexpicksley/Documents/GitHub/bella_analysis/user_data/2024-02-29_searchreplace.txt'\n",
    "\n"
   ]
  },
  {
   "cell_type": "code",
   "execution_count": 4,
   "id": "c2b42963-ff48-4f6d-9648-4dfddfd2fd0f",
   "metadata": {},
   "outputs": [
    {
     "data": {
      "application/vnd.jupyter.widget-view+json": {
       "model_id": "e500b69903b7410ba27c002b6638e294",
       "version_major": 2,
       "version_minor": 0
      },
      "text/plain": [
       "interactive(children=(Output(),), _dom_classes=('widget-interact',))"
      ]
     },
     "metadata": {},
     "output_type": "display_data"
    },
    {
     "data": {
      "application/vnd.jupyter.widget-view+json": {
       "model_id": "3462f82a10614a9990e3749c2fc6b767",
       "version_major": 2,
       "version_minor": 0
      },
      "text/plain": [
       "interactive(children=(Output(),), _dom_classes=('widget-interact',))"
      ]
     },
     "metadata": {},
     "output_type": "display_data"
    },
    {
     "data": {
      "application/vnd.jupyter.widget-view+json": {
       "model_id": "11bd42388b5443c4af3ba8e8387070de",
       "version_major": 2,
       "version_minor": 0
      },
      "text/plain": [
       "interactive(children=(Output(),), _dom_classes=('widget-interact',))"
      ]
     },
     "metadata": {},
     "output_type": "display_data"
    },
    {
     "data": {
      "application/vnd.jupyter.widget-view+json": {
       "model_id": "bcd0895dcbe44610bf8254589f65b7d0",
       "version_major": 2,
       "version_minor": 0
      },
      "text/plain": [
       "interactive(children=(Output(),), _dom_classes=('widget-interact',))"
      ]
     },
     "metadata": {},
     "output_type": "display_data"
    },
    {
     "data": {
      "application/vnd.jupyter.widget-view+json": {
       "model_id": "e380ccad26b946b6bc015205bf622991",
       "version_major": 2,
       "version_minor": 0
      },
      "text/plain": [
       "interactive(children=(Output(),), _dom_classes=('widget-interact',))"
      ]
     },
     "metadata": {},
     "output_type": "display_data"
    },
    {
     "data": {
      "application/vnd.jupyter.widget-view+json": {
       "model_id": "bae39f71a027472595c0d5c5450cf115",
       "version_major": 2,
       "version_minor": 0
      },
      "text/plain": [
       "VBox(children=(Text(value='N:\\\\data', description='Experiment Dir :', disabled=True, layout=Layout(width='90%'…"
      ]
     },
     "metadata": {},
     "output_type": "display_data"
    }
   ],
   "source": [
    "# Define which scan to look at \n",
    "\n",
    "experiment_dir = 'N:\\data'\n",
    "_, _, _, _, _, sfile_disp = get_selection_box(experiment_dir, display_widgets=True)\n"
   ]
  },
  {
   "cell_type": "code",
   "execution_count": 5,
   "id": "23c97abc",
   "metadata": {},
   "outputs": [
    {
     "name": "stdout",
     "output_type": "stream",
     "text": [
      "sfilename = r'N:\\data\\Y2024\\01-Jan\\24_0131\\analysis\\s23.txt'\n"
     ]
    }
   ],
   "source": [
    "# Select sfile from GUI\n",
    "sfilename = sfile_disp.value\n",
    "\n",
    "# OR Manually define s-file\n",
    "sfilename = r'N:\\data\\Y2024\\01-Jan\\24_0131\\analysis\\s23.txt'\n",
    "\n",
    "print(\"sfilename = r'%s'\" %sfilename)"
   ]
  },
  {
   "cell_type": "code",
   "execution_count": 7,
   "id": "932cfc14",
   "metadata": {},
   "outputs": [
    {
     "ename": "TypeError",
     "evalue": "ScanDataAnalyzer.add_file_list_to_scan_data() missing 2 required positional arguments: 'diagnostic' and 'file_ext'",
     "output_type": "error",
     "traceback": [
      "\u001b[1;31m---------------------------------------------------------------------------\u001b[0m",
      "\u001b[1;31mTypeError\u001b[0m                                 Traceback (most recent call last)",
      "Cell \u001b[1;32mIn[7], line 6\u001b[0m\n\u001b[0;32m      1\u001b[0m \u001b[38;5;66;03m# Load the Scalar Data for that scan in, and filter any data if desired\u001b[39;00m\n\u001b[0;32m      3\u001b[0m scan_data \u001b[38;5;241m=\u001b[39m ScanDataAnalyzer(sfilename\u001b[38;5;241m=\u001b[39msfilename,\n\u001b[0;32m      4\u001b[0m                        )\n\u001b[1;32m----> 6\u001b[0m scan_data\u001b[38;5;241m.\u001b[39mload_scan_data(\n\u001b[0;32m      7\u001b[0m     \u001b[38;5;66;03m# search_replace_filename=search_replace_filename, \u001b[39;00m\n\u001b[0;32m      8\u001b[0m     \u001b[38;5;66;03m# column_math_filename=column_math_filename,\u001b[39;00m\n\u001b[0;32m      9\u001b[0m )\n\u001b[0;32m     11\u001b[0m scan_data\u001b[38;5;241m.\u001b[39mfilter_scan_data(\u001b[38;5;124m'\u001b[39m\u001b[38;5;124mHPD stage position\u001b[39m\u001b[38;5;124m'\u001b[39m, \u001b[38;5;241m200\u001b[39m, \u001b[38;5;241m230\u001b[39m, filter_exclusive\u001b[38;5;241m=\u001b[39m\u001b[38;5;28;01mFalse\u001b[39;00m)\n",
      "File \u001b[1;32m~\\AppData\\Roaming\\Python\\Python311\\site-packages\\PyGEECSPlotter\\scan_data_analysis.py:115\u001b[0m, in \u001b[0;36mScanDataAnalyzer.load_scan_data\u001b[1;34m(self, search_replace_filename, column_math_filename, parse_from, remove_missing_diagnostic_files)\u001b[0m\n\u001b[0;32m    112\u001b[0m \u001b[38;5;28;01mif\u001b[39;00m column_math_filename \u001b[38;5;129;01mis\u001b[39;00m \u001b[38;5;129;01mnot\u001b[39;00m \u001b[38;5;28;01mNone\u001b[39;00m:\n\u001b[0;32m    113\u001b[0m     \u001b[38;5;28mself\u001b[39m\u001b[38;5;241m.\u001b[39madd_column_math(column_math_filename, parse_from\u001b[38;5;241m=\u001b[39mparse_from)\n\u001b[1;32m--> 115\u001b[0m \u001b[38;5;28mself\u001b[39m\u001b[38;5;241m.\u001b[39madd_file_list_to_scan_data(remove_missing_files\u001b[38;5;241m=\u001b[39mremove_missing_diagnostic_files)\n\u001b[0;32m    116\u001b[0m \u001b[38;5;28mself\u001b[39m\u001b[38;5;241m.\u001b[39mset_analysis_dir()\n",
      "\u001b[1;31mTypeError\u001b[0m: ScanDataAnalyzer.add_file_list_to_scan_data() missing 2 required positional arguments: 'diagnostic' and 'file_ext'"
     ]
    }
   ],
   "source": [
    "# Load the Scalar Data for that scan in, and filter any data if desired\n",
    "\n",
    "scan_data = ScanDataAnalyzer(sfilename=sfilename)\n",
    "\n",
    "scan_data.load_scan_data(\n",
    "    # search_replace_filename=search_replace_filename, \n",
    "    # column_math_filename=column_math_filename,\n",
    ")\n",
    "\n",
    "scan_data.filter_scan_data('HPD stage position', 200, 230, filter_exclusive=False)\n",
    "\n"
   ]
  },
  {
   "cell_type": "code",
   "execution_count": null,
   "id": "e31cee4c",
   "metadata": {},
   "outputs": [],
   "source": [
    "# Load the Scalar Data for that scan in, and filter any data if desired\n",
    "\n",
    "analyzer = ImageAnalyzer(diagnostic=diagnostic, \n",
    "                 file_ext=file_ext, \n",
    "                 analyzer_dict=analyzer_dict, \n",
    "                 display_dict=analyzer_dict\n",
    "                        )\n",
    "\n"
   ]
  },
  {
   "cell_type": "code",
   "execution_count": null,
   "id": "8caac0f3",
   "metadata": {},
   "outputs": [],
   "source": [
    "# Automatically load the bg file for that diagnostic\n",
    "\n",
    "bg_filename = scan_data.get_bg_file_path(which_scan='last')\n",
    "bg = analyzer.load_data(bg_filename)\n"
   ]
  },
  {
   "cell_type": "code",
   "execution_count": null,
   "id": "2ff0df9c",
   "metadata": {},
   "outputs": [],
   "source": [
    "# Check one image\n",
    "\n",
    "idx = np.where(scan_data.data['Shotnumber'] == 35)[0][0]\n",
    "filename = scan_data.data['%s file_list' %diagnostic][idx]\n",
    "print(filename)\n",
    "\n",
    "data = analyzer.load_data(filename)\n",
    "data, return_dict = analyzer.analyze_data(data, analyzer_dict={}, bg=bg)\n",
    "\n",
    "fig, ax = analyzer.display_data(data, display_dict)\n",
    "\n",
    "fig, ax = analyzer.display_lineout(return_dict['x'], return_dict['x_lo'], title=os.path.basename(filename))\n"
   ]
  },
  {
   "cell_type": "code",
   "execution_count": null,
   "id": "1f2c8664",
   "metadata": {},
   "outputs": [],
   "source": [
    "# Analyze the whole scan and save the analyzed scalar values back to the Scalar Data File\n",
    "\n",
    "add_columns_df = scan_data.analyze_scan(analyzer, \n",
    "        bg=bg, \n",
    "        display_data=False,\n",
    "        write_columns_to_sfile=False, \n",
    "        overwrite_columns=True, \n",
    "        analysis_label=''\n",
    "        )"
   ]
  },
  {
   "cell_type": "code",
   "execution_count": null,
   "id": "4ff5fd16",
   "metadata": {},
   "outputs": [],
   "source": []
  },
  {
   "cell_type": "code",
   "execution_count": null,
   "id": "00944d1d",
   "metadata": {},
   "outputs": [],
   "source": []
  }
 ],
 "metadata": {
  "kernelspec": {
   "display_name": "Python 3 (ipykernel)",
   "language": "python",
   "name": "python3"
  },
  "language_info": {
   "codemirror_mode": {
    "name": "ipython",
    "version": 3
   },
   "file_extension": ".py",
   "mimetype": "text/x-python",
   "name": "python",
   "nbconvert_exporter": "python",
   "pygments_lexer": "ipython3",
   "version": "3.11.5"
  }
 },
 "nbformat": 4,
 "nbformat_minor": 5
}
